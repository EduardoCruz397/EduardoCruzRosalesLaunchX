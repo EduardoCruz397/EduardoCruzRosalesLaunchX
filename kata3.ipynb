{
 "cells": [
  {
   "cell_type": "markdown",
   "metadata": {},
   "source": [
    "# Kata del módulo 3"
   ]
  },
  {
   "cell_type": "markdown",
   "metadata": {},
   "source": [
    "Escribir declaraciones if, else y elif."
   ]
  },
  {
   "cell_type": "code",
   "execution_count": 3,
   "metadata": {},
   "outputs": [
    {
     "name": "stdout",
     "output_type": "stream",
     "text": [
      "¡Peligro, un asteroide se aproxima a gran velocidad¡\n"
     ]
    }
   ],
   "source": [
    "'''Para este ejercicio, escribirás una lógica condicional que imprima una advertencia si un asteroide se acerca a la Tierra demasiado rápido.\n",
    "La velocidad del asteroide varía dependiendo de lo cerca que esté del sol, y cualquier velocidad superior a 25 kilómetros por segundo (km/s) \n",
    "merece una advertencia.\n",
    "Un asteroide se acerca, y viaja a una velocidad de 49 km/s.'''\n",
    "\n",
    "velocidaAsteroide = 49\n",
    "\n",
    "if velocidaAsteroide < 25:\n",
    "    print('Sin peligro de asteroide')\n",
    "else:\n",
    "    print('¡Peligro, un asteroide se aproxima a gran velocidad¡')"
   ]
  },
  {
   "cell_type": "code",
   "execution_count": 8,
   "metadata": {},
   "outputs": [
    {
     "name": "stdout",
     "output_type": "stream",
     "text": [
      "Sin avistamientos por el momento.\n"
     ]
    }
   ],
   "source": [
    "'''Si un asteroide entra en la atmósfera de la Tierra a una velocidad mayor o igual a 20 km/s, a veces produce un rayo de luz que se puede ver desde la Tierra. \n",
    "Escribe la lógica condicional que usa declaraciones if, else, y elif para alertar a las personas de todo el mundo que deben buscar un asteroide en el cielo. \n",
    "¡Hay uno que se dirige a la tierra ahora a una velocidad de 19 km/s!'''\n",
    "\n",
    "velocidaAsteroide = 19\n",
    "\n",
    "if velocidaAsteroide > 20:\n",
    "    print('¡Observa el cielo!, ¡Se acerca un asteroide!')\n",
    "elif velocidaAsteroide == 20:\n",
    "    print('¡Observa el cielo!, ¡Se acerca un asteroide!')\n",
    "else:\n",
    "    print('Sin avistamientos por el momento.')"
   ]
  },
  {
   "cell_type": "markdown",
   "metadata": {},
   "source": [
    "Uso de operadores and y or."
   ]
  },
  {
   "cell_type": "code",
   "execution_count": 16,
   "metadata": {},
   "outputs": [
    {
     "name": "stdout",
     "output_type": "stream",
     "text": [
      "Sin avistamientos por el momento.\n"
     ]
    }
   ],
   "source": [
    "'''escribe un programa que emita la advertencia o información correcta a la gente de la Tierra, según la velocidad y el tamaño de un asteroide. \n",
    "Utiliza instrucciones if, else, y elif, así como los operadores and y or.'''\n",
    "\n",
    "velocidadAsteroide = 19\n",
    "tamanioAsteroide = 23\n",
    "if velocidadAsteroide > 25 and tamanioAsteroide > 25:\n",
    "    print('¡Peligro, un asteroide se aproxima a gran velocidad¡')\n",
    "elif velocidadAsteroide < 20 and tamanioAsteroide > 25:\n",
    "    print('!Alerta¡ Se acerca un asteroide potencialmente peligroso.')\n",
    "elif velocidadAsteroide >= 20 and tamanioAsteroide < 25:\n",
    "    print('¡Observa el cielo!, ¡Se acerca un asteroide!')\n",
    "else :\n",
    "    print('Sin avistamientos por el momento.')"
   ]
  }
 ],
 "metadata": {
  "interpreter": {
   "hash": "22b200a0b068bf3fbf14c9cde41335e7ace4fb4b6a6d556b04edfdc810976379"
  },
  "kernelspec": {
   "display_name": "Python 3.9.6 64-bit",
   "language": "python",
   "name": "python3"
  },
  "language_info": {
   "codemirror_mode": {
    "name": "ipython",
    "version": 3
   },
   "file_extension": ".py",
   "mimetype": "text/x-python",
   "name": "python",
   "nbconvert_exporter": "python",
   "pygments_lexer": "ipython3",
   "version": "3.9.6"
  },
  "orig_nbformat": 4
 },
 "nbformat": 4,
 "nbformat_minor": 2
}
