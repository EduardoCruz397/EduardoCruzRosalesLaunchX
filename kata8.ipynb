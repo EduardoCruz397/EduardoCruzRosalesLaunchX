{
 "cells": [
  {
   "cell_type": "markdown",
   "metadata": {},
   "source": [
    "# Kata del módulo 10"
   ]
  },
  {
   "cell_type": "markdown",
   "metadata": {},
   "source": [
    "Ejercicio 1: Creación de diccionario de Python"
   ]
  },
  {
   "cell_type": "code",
   "execution_count": 1,
   "metadata": {},
   "outputs": [
    {
     "name": "stdout",
     "output_type": "stream",
     "text": [
      "El planeta Marts tiene 2 lunas.\n",
      "El planeta Marts tiene una circunferencia polar de 6752 km.\n"
     ]
    }
   ],
   "source": [
    "# Creación de  diccionario llamado planet co los datos propuestos\n",
    "\n",
    "planet = {\n",
    "    'name' : 'Marts',\n",
    "    'moons' : 2\n",
    "}\n",
    "\n",
    "# Muestra el nombre del planeta y el nummero de lunas que tiene\n",
    "print(f\"El planeta {planet['name']} tiene {planet['moons']} lunas.\")\n",
    "\n",
    "# Agraga la clave circunferencia con los datos proporcionados\n",
    "\n",
    "planet['circunferencia'] = {\n",
    "    'polar' : 6752,\n",
    "    'equatorial' : 6792\n",
    "}\n",
    "\n",
    "# Imprime el nombre del planeta con su circunferencia polar\n",
    "print(f\"El planeta {planet['name']} tiene una circunferencia polar de {planet['circunferencia']['polar']} km.\")\n"
   ]
  },
  {
   "cell_type": "markdown",
   "metadata": {},
   "source": [
    "Ejercicio 2: Programación dinámica con diccionarios."
   ]
  },
  {
   "cell_type": "code",
   "execution_count": 2,
   "metadata": {},
   "outputs": [
    {
     "name": "stdout",
     "output_type": "stream",
     "text": [
      "El numero promedio de lunas por planeta es:  17.833333333333332\n"
     ]
    }
   ],
   "source": [
    "planet_moons = {\n",
    "    'mercury': 0,\n",
    "    'venus': 0,\n",
    "    'earth': 1,\n",
    "    'mars': 2,\n",
    "    'jupiter': 79,\n",
    "    'saturn': 82,\n",
    "    'uranus': 27,\n",
    "    'neptune': 14,\n",
    "    'pluto': 5,\n",
    "    'haumea': 2,\n",
    "    'makemake': 1,\n",
    "    'eris': 1\n",
    "}\n",
    "# Añade el código para determinar el número de lunas.\n",
    "moons = planet_moons.values()\n",
    "values = len(planet_moons.keys())\n",
    "\n",
    "# Agrega el código para contar el número de lunas. \n",
    "total_moons = 0\n",
    "for lunas in planet_moons:\n",
    "    total_moons += planet_moons[lunas]\n",
    "\n",
    "print(\"El numero promedio de lunas por planeta es: \" , total_moons/values)"
   ]
  }
 ],
 "metadata": {
  "interpreter": {
   "hash": "22b200a0b068bf3fbf14c9cde41335e7ace4fb4b6a6d556b04edfdc810976379"
  },
  "kernelspec": {
   "display_name": "Python 3.9.6 64-bit",
   "language": "python",
   "name": "python3"
  },
  "language_info": {
   "codemirror_mode": {
    "name": "ipython",
    "version": 3
   },
   "file_extension": ".py",
   "mimetype": "text/x-python",
   "name": "python",
   "nbconvert_exporter": "python",
   "pygments_lexer": "ipython3",
   "version": "3.9.6"
  },
  "orig_nbformat": 4
 },
 "nbformat": 4,
 "nbformat_minor": 2
}
