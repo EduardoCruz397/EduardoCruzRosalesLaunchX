{
 "cells": [
  {
   "cell_type": "markdown",
   "metadata": {},
   "source": [
    "# Kata del módulo 4"
   ]
  },
  {
   "cell_type": "markdown",
   "metadata": {},
   "source": [
    "### Ejercicio 1: Transformar cadenas."
   ]
  },
  {
   "cell_type": "code",
   "execution_count": 6,
   "metadata": {},
   "outputs": [
    {
     "name": "stdout",
     "output_type": "stream",
     "text": [
      "Interesting facts about the Moon\n",
      "The Moon is Earth's only satellite\n",
      "There are several interesting facts about the Moon and how it affects life here on Earth\n",
      "\n",
      "On average, the Moon moves 4cm away from the Earth every year\n",
      "This yearly drift is not significant enough to cause immediate effects on Earth\n",
      "The highest daylight temperature of the Moon is 127 C.\n",
      "Interesting facts about the Moon\n",
      "The Moon is Earth's only satellite\n",
      "There are several interesting facts about the Moon and how it affects life here on Earth\n",
      "\n",
      "On average, the Moon moves 4cm away from the Earth every year\n",
      "This yearly drift is not significant enough to cause immediate effects on Earth\n",
      "The highest daylight temperature of the Moon is 127 Celsius.\n"
     ]
    }
   ],
   "source": [
    "text = \"\"\"Interesting facts about the Moon. The Moon is Earth's only satellite. There are several interesting facts about the Moon and how it affects life here on Earth. \n",
    "On average, the Moon moves 4cm away from the Earth every year. This yearly drift is not significant enough to cause immediate effects on Earth. The highest daylight temperature of the Moon is 127 C.\"\"\"\n",
    "\n",
    "# Divide el teto en cada oración para trabajar con contenido:\n",
    "texto_dividido = text.split('. ')\n",
    "texto_dividido\n",
    "\n",
    "# Define algunas palabras clave para búsqueda que te ayudarán a determinar si una oración contiene un hecho.\n",
    "referencias = ['Moon', 'Earth', 'interesting', 'temperature']\n",
    "\n",
    "# Cre un bucle para imprimir solo datos sobre la Luna que estén relacionados con las palabras clave definidas anteriormente:\n",
    "for oracion in texto_dividido:\n",
    "    for referencia in referencias:\n",
    "        if referencia in oracion:\n",
    "            print(oracion)\n",
    "            break\n",
    "\n",
    "#Finalmente, actualiza el bucle(ciclo) para cambiar C a Celsius:\n",
    "\n",
    "for oracion in texto_dividido:\n",
    "    for referencia in referencias:\n",
    "        if referencia in oracion:\n",
    "            print(oracion.replace('C', 'Celsius'))\n",
    "            break\n"
   ]
  },
  {
   "cell_type": "markdown",
   "metadata": {},
   "source": [
    "Ejercicio 2: Formateando cadenas. "
   ]
  },
  {
   "cell_type": "code",
   "execution_count": null,
   "metadata": {},
   "outputs": [],
   "source": [
    "# Datos \n",
    "name = \"Moon\"\n",
    "gravity = 0.00162\n",
    "planet = \"Earth\"\n",
    "\n",
    "#Creamos el titulo\n",
    "title = f'Gravedad en la {name}'\n",
    "\n",
    "#Plantilla\n",
    "\n",
    "#Unir cadenas\n"
   ]
  }
 ],
 "metadata": {
  "interpreter": {
   "hash": "22b200a0b068bf3fbf14c9cde41335e7ace4fb4b6a6d556b04edfdc810976379"
  },
  "kernelspec": {
   "display_name": "Python 3.9.6 64-bit",
   "language": "python",
   "name": "python3"
  },
  "language_info": {
   "codemirror_mode": {
    "name": "ipython",
    "version": 3
   },
   "file_extension": ".py",
   "mimetype": "text/x-python",
   "name": "python",
   "nbconvert_exporter": "python",
   "pygments_lexer": "ipython3",
   "version": "3.9.6"
  },
  "orig_nbformat": 4
 },
 "nbformat": 4,
 "nbformat_minor": 2
}
