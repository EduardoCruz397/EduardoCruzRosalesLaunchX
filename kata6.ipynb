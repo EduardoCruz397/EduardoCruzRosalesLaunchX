{
 "cells": [
  {
   "cell_type": "markdown",
   "metadata": {},
   "source": [
    "# Kata del módulo 6"
   ]
  },
  {
   "cell_type": "markdown",
   "metadata": {},
   "source": [
    "Ejercicio 1: Crear y usar lista de Python"
   ]
  },
  {
   "cell_type": "code",
   "execution_count": 1,
   "metadata": {},
   "outputs": [
    {
     "name": "stdout",
     "output_type": "stream",
     "text": [
      "Exiten 8 planetas en el sistema Solar.\n",
      "Exiten 9 planetas en el sistema Solar. Pluton es el ultimo planeta.\n"
     ]
    }
   ],
   "source": [
    "# Creamos la lista planets y la mostramos\n",
    "planets = ['Mercurio', 'Venus', 'Tierra', 'Marte', 'Jupiter', 'Saturno', 'Urano', 'Neptuno']\n",
    "print(f'Exiten {len(planets)} planetas en el sistema Solar.')\n",
    "\n",
    "# Agregamos apluton y mostramos el último elemento\n",
    "planets.append('Pluton')\n",
    "print(f'Exiten {len(planets)} planetas en el sistema Solar. {planets[-1]} es el ultimo planeta.')\n"
   ]
  },
  {
   "cell_type": "markdown",
   "metadata": {},
   "source": [
    "Ejercicio 2: Trabajando con datos de una lista"
   ]
  },
  {
   "cell_type": "code",
   "execution_count": 2,
   "metadata": {},
   "outputs": [
    {
     "name": "stdout",
     "output_type": "stream",
     "text": [
      "Tierra esta mas lejos del sol que:\n",
      "['Mercurio', 'Venus']\n",
      "Tierra esta mas cerca del sol que:\n",
      "['Marte', 'Jupiter', 'Saturno', 'Urano', 'Neptuno']\n"
     ]
    }
   ],
   "source": [
    "# Lista Planetas\n",
    "planets = ['Mercurio', 'Venus', 'Tierra', 'Marte', 'Jupiter', 'Saturno', 'Urano', 'Neptuno']\n",
    "#Solicita el nombre de un planeta\n",
    "planet = input('Ingresa el nombre de un planeta. (NOTA: No olvides poner la primera letra en mayuscula.): ')\n",
    "# Busca el planeta en la lista\n",
    "search_planet = planets.index(planet)\n",
    "\n",
    "#Muestra los planetas mas cernanos al sol\n",
    "print(f'{planet} esta mas lejos del sol que:')\n",
    "print(planets[0:search_planet])\n",
    "\n",
    "#Muestra los planetas mas lejanos al sol\n",
    "print(f'{planet} esta mas cerca del sol que:')\n",
    "print(planets[search_planet+1:])\n"
   ]
  }
 ],
 "metadata": {
  "interpreter": {
   "hash": "22b200a0b068bf3fbf14c9cde41335e7ace4fb4b6a6d556b04edfdc810976379"
  },
  "kernelspec": {
   "display_name": "Python 3.9.6 64-bit",
   "language": "python",
   "name": "python3"
  },
  "language_info": {
   "codemirror_mode": {
    "name": "ipython",
    "version": 3
   },
   "file_extension": ".py",
   "mimetype": "text/x-python",
   "name": "python",
   "nbconvert_exporter": "python",
   "pygments_lexer": "ipython3",
   "version": "3.9.6"
  },
  "orig_nbformat": 4
 },
 "nbformat": 4,
 "nbformat_minor": 2
}
