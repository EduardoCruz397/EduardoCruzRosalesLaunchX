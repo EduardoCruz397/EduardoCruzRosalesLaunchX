{
 "cells": [
  {
   "cell_type": "markdown",
   "metadata": {},
   "source": [
    "# Kata del módulo 5"
   ]
  },
  {
   "cell_type": "markdown",
   "metadata": {},
   "source": [
    "Ejercicio 1: Utilizar operadores aritmeticos"
   ]
  },
  {
   "cell_type": "code",
   "execution_count": 2,
   "metadata": {},
   "outputs": [
    {
     "name": "stdout",
     "output_type": "stream",
     "text": [
      "628949330\n",
      "390577533.93\n"
     ]
    }
   ],
   "source": [
    "#Crear valiables para almacenar las dos distancias\n",
    "planeta1 = 149597870\n",
    "planeta2 = 778547200\n",
    "\n",
    "#Calcular la distancia entre planetas\n",
    "distanciaKm = planeta2 - planeta1\n",
    "print(distanciaKm)\n",
    "\n",
    "distanciaM = distanciaKm * 0.621\n",
    "print(distanciaM)"
   ]
  },
  {
   "cell_type": "markdown",
   "metadata": {},
   "source": [
    "Ejercicio 2: convertir cadenas en números y usa valores absolutos."
   ]
  },
  {
   "cell_type": "code",
   "execution_count": 3,
   "metadata": {},
   "outputs": [
    {
     "name": "stdout",
     "output_type": "stream",
     "text": [
      "50300000\n",
      "31236300.0\n"
     ]
    }
   ],
   "source": [
    "#Almacenar las entradas del usuario y convertirlas en int\n",
    "\n",
    "distanciaPlaneta1Sol = int(input(\"¿Cúal es la distancia en kilometros entre el primer planeta y el sol?: \"))\n",
    "distanciaPlaneta2Sol = int(input(\"¿Cúal es la distancia en kilometros entre el segundo planeta y el sol?: \"))\n",
    "\n",
    "# Realizar el cálculo y determinar el valor absoluto\n",
    "distanciaKm = distanciaPlaneta2Sol - distanciaPlaneta1Sol\n",
    "print(distanciaKm)\n",
    "#Convertir Km a Millas\n",
    "distanciaM = distanciaKm * 0.621\n",
    "print(abs(distanciaM))"
   ]
  }
 ],
 "metadata": {
  "interpreter": {
   "hash": "45d4097a4151f443720efec418c7d7a2532a1e1b47c74aadc87185052042789d"
  },
  "kernelspec": {
   "display_name": "Python 3.9.7 ('base')",
   "language": "python",
   "name": "python3"
  },
  "language_info": {
   "codemirror_mode": {
    "name": "ipython",
    "version": 3
   },
   "file_extension": ".py",
   "mimetype": "text/x-python",
   "name": "python",
   "nbconvert_exporter": "python",
   "pygments_lexer": "ipython3",
   "version": "3.9.6"
  },
  "orig_nbformat": 4
 },
 "nbformat": 4,
 "nbformat_minor": 2
}
